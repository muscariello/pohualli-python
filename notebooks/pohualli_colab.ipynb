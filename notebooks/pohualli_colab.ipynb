{
 "cells": [
  {
   "cell_type": "markdown",
   "id": "362cd949",
   "metadata": {},
   "source": [
    "# Pohualli Interactive Notebook (Colab Compatible)\n",
    "This notebook launches the FastAPI web UI inline via an iframe while also providing Python helper functions to query the API directly.\n",
    "\n",
    "**Features**:\n",
    "- Start the Pohualli FastAPI server (uvicorn) in a background thread.\n",
    "- Display the existing HTML UI (same as running locally) inside the notebook.\n",
    "- Provide helper functions to perform conversions and auto-correction derivations programmatically.\n",
    "\n",
    "> If running on **Google Colab**, the first cell will install dependencies. The UI will appear below after the server starts."
   ]
  },
  {
   "cell_type": "code",
   "execution_count": null,
   "id": "c4de22b6",
   "metadata": {},
   "outputs": [],
   "source": [
    "# Run backend and show frontend UI in one cell\n",
    "import sys, os, threading, time\n",
    "\n",
    "def in_colab():\n",
    "    try:\n",
    "        import google.colab  # type: ignore\n",
    "        return True\n",
    "    except Exception:\n",
    "        return False\n",
    "\n",
    "REQ = 'fastapi uvicorn jinja2 httpx pyngrok'\n",
    "if in_colab():\n",
    "    print('Colab detected: installing packages...')\n",
    "    import subprocess\n",
    "    subprocess.check_call([sys.executable, '-m', 'pip', 'install', REQ])\n",
    "\n",
    "REPO_URL = 'https://github.com/muscariello/pohualli-python.git'\n",
    "if in_colab() and not os.path.isdir('pohualli-python'):\n",
    "    os.system(f'git clone --depth 1 {REPO_URL}')\n",
    "    os.chdir('pohualli-python')\n",
    "if 'pohualli' not in sys.modules:\n",
    "    sys.path.append('.')\n",
    "from pohualli.webapp import app\n",
    "\n",
    "import uvicorn\n",
    "SERVER_STARTED = False\n",
    "\n",
    "def run_server():\n",
    "    uvicorn.run(app, host='0.0.0.0', port=8000, log_level='warning')\n",
    "\n",
    "if not SERVER_STARTED:\n",
    "    th = threading.Thread(target=run_server, daemon=True)\n",
    "    th.start()\n",
    "    SERVER_STARTED = True\n",
    "    time.sleep(2)\n",
    "\n",
    "from IPython.display import IFrame, display\n",
    "if in_colab():\n",
    "    from pyngrok import ngrok\n",
    "    public_url = ngrok.connect(8000)\n",
    "    print('Web UI:', public_url)\n",
    "    display(IFrame(src=public_url, width=\"100%\", height=900))\n",
    "else:\n",
    "    display(IFrame(src='http://127.0.0.1:8000/', width='100%', height=900))\n",
    "print('Pohualli Web UI is running above!')"
   ]
  },
  {
   "cell_type": "code",
   "execution_count": null,
   "id": "ffc1d3e1",
   "metadata": {},
   "outputs": [],
   "source": [
    "# If running in Google Colab, install dependencies (FastAPI, Uvicorn, etc.)\n",
    "import os, sys, subprocess, textwrap, time\n",
    "REQ = 'fastapi uvicorn jinja2 httpx'\n",
    "def in_colab():\n",
    "    try:\n",
    "        import google.colab  # type: ignore\n",
    "        return True\n",
    "    except Exception:\n",
    "        return False\n",
    "if in_colab():\n",
    "    print('Running in Colab: installing packages...')\n",
    "    subprocess.check_call([sys.executable, '-m', 'pip', 'install', REQ])\n",
    "else:\n",
    "    print('Not in Colab (assuming local dev environment has deps).')"
   ]
  },
  {
   "cell_type": "code",
   "execution_count": null,
   "id": "0621ce96",
   "metadata": {},
   "outputs": [],
   "source": [
    "# Import project (assumes repository cloned / present).\n",
    "# If in Colab and repo not present, clone the GitHub repository.\n",
    "REPO_URL = 'https://github.com/muscariello/pohualli-python.git'\n",
    "if in_colab() and not os.path.isdir('pohualli-python'):\n",
    "    !git clone --depth 1 $REPO_URL\n",
    "    os.chdir('pohualli-python')\n",
    "# Ensure project path is on sys.path\n",
    "if 'pohualli' not in sys.modules:\n",
    "    sys.path.append('.')\n",
    "from pohualli.webapp import app  # FastAPI application\n",
    "print('Loaded FastAPI app:', app.title)"
   ]
  },
  {
   "cell_type": "code",
   "execution_count": null,
   "id": "be8156db",
   "metadata": {},
   "outputs": [],
   "source": [
    "# Launch the FastAPI app with uvicorn in a background thread.\n",
    "import threading\n",
    "import uvicorn\n",
    "SERVER_STARTED = False\n",
    "def run_server():\n",
    "    uvicorn.run(app, host='0.0.0.0', port=8000, log_level='warning')\n",
    "if not SERVER_STARTED:\n",
    "    th = threading.Thread(target=run_server, daemon=True)\n",
    "    th.start()\n",
    "    SERVER_STARTED = True\n",
    "    time.sleep(2)  # Allow server to start\n",
    "print('Server should now be running on port 8000.')"
   ]
  },
  {
   "cell_type": "markdown",
   "id": "d2df1708",
   "metadata": {},
   "source": [
    "### Embedded UI\n",
    "If you are in Colab, the iframe below will *not* directly render a localhost server. Colab notebooks run remotely; for Colab you would need to use `pyngrok` or Cloud Run to expose the service.\n",
    "\n",
    "Locally (Jupyter), this iframe will show the full Pohualli HTML interface."
   ]
  },
  {
   "cell_type": "code",
   "execution_count": null,
   "id": "507323ef",
   "metadata": {},
   "outputs": [],
   "source": [
    "from IPython.display import IFrame, display, HTML\n",
    "if in_colab():\n",
    "    display(HTML('<p><b>Colab detected:</b> Localhost iframe is not accessible. Use tunnel instructions below.</p>'))\n",
    "else:\n",
    "    display(IFrame(src='http://127.0.0.1:8000/', width='100%', height=900))"
   ]
  },
  {
   "cell_type": "markdown",
   "id": "ca597f6b",
   "metadata": {},
   "source": [
    "### Optional: Expose Server Publicly in Colab\n",
    "To surface the FastAPI UI in Colab, you can open a tunnel using `pyngrok`:\n",
    "```python\n",
    "!pip install pyngrok\n",
    "from pyngrok import ngrok\n",
    "public_url = ngrok.connect(8000)\n",
    "public_url\n",
    "```\n",
    "Then open the printed HTTPS URL to access the UI."
   ]
  },
  {
   "cell_type": "markdown",
   "id": "6ab394f1",
   "metadata": {},
   "source": [
    "### Helper Functions\n",
    "Use these to query the API endpoints programmatically."
   ]
  },
  {
   "cell_type": "code",
   "execution_count": null,
   "id": "d3398127",
   "metadata": {},
   "outputs": [],
   "source": [
    "import httpx, json\n",
    "BASE = 'http://127.0.0.1:8000'\n",
    "def convert(jdn: int, **overrides):\n",
    "    params = {'jdn': jdn, **overrides}\n",
    "    r = httpx.get(BASE + '/api/convert', params=params, timeout=10)\n",
    "    r.raise_for_status()\n",
    "    return r.json()\n",
    "def derive(jdn: int, **spec):\n",
    "    params = {'jdn': jdn, **spec}\n",
    "    r = httpx.get(BASE + '/api/derive-autocorr', params=params, timeout=30)\n",
    "    r.raise_for_status()\n",
    "    return r.json()\n",
    "print('Helper functions ready: convert(jdn), derive(jdn, ...)')"
   ]
  },
  {
   "cell_type": "code",
   "execution_count": null,
   "id": "71c2df6e",
   "metadata": {},
   "outputs": [],
   "source": [
    "# Example usage\n",
    "sample = convert(2451545)  # J2000 epoch as demonstration\n",
    "sample['long_count'], sample['tzolkin_value'], sample['tzolkin_name']"
   ]
  },
  {
   "cell_type": "code",
   "execution_count": null,
   "id": "7789130f",
   "metadata": {},
   "outputs": [],
   "source": [
    "# Derive example (fill only what you know)\n",
    "derive_example = derive(2451545, tzolkin='11 Ik')\n",
    "derive_example"
   ]
  },
  {
   "cell_type": "markdown",
   "id": "1a817483",
   "metadata": {},
   "source": [
    "### Shutdown (Optional)\n",
    "The server thread is daemonized and will terminate when the kernel stops."
   ]
  }
 ],
 "metadata": {
  "language_info": {
   "name": "python"
  }
 },
 "nbformat": 4,
 "nbformat_minor": 5
}
